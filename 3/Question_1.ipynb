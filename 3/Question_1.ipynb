{
  "nbformat": 4,
  "nbformat_minor": 0,
  "metadata": {
    "colab": {
      "name": "Question_1.ipynb",
      "provenance": [],
      "collapsed_sections": []
    },
    "kernelspec": {
      "name": "python3",
      "display_name": "Python 3"
    },
    "accelerator": "GPU"
  },
  "cells": [
    {
      "cell_type": "markdown",
      "metadata": {
        "id": "hADawYTQl71d"
      },
      "source": [
        "# Mounting content from Google Drive."
      ]
    },
    {
      "cell_type": "code",
      "metadata": {
        "colab": {
          "base_uri": "https://localhost:8080/"
        },
        "id": "SFfaJq6O5jCm",
        "outputId": "533aca2d-2078-4365-f259-9b9d4e109fac"
      },
      "source": [
        "from google.colab import drive\n",
        "drive.mount('/content/gdrive')"
      ],
      "execution_count": null,
      "outputs": [
        {
          "output_type": "stream",
          "text": [
            "Mounted at /content/gdrive\n"
          ],
          "name": "stdout"
        }
      ]
    },
    {
      "cell_type": "markdown",
      "metadata": {
        "id": "VvCjjvoQl_Xt"
      },
      "source": [
        "# Part 1: Loading and preprocessing the data"
      ]
    },
    {
      "cell_type": "code",
      "metadata": {
        "colab": {
          "base_uri": "https://localhost:8080/"
        },
        "id": "aQEHmwMF56EN",
        "outputId": "cbfb697e-d3dc-46ee-a48f-2b9c8f690117"
      },
      "source": [
        "from sklearn.linear_model import LogisticRegression\n",
        "import pandas as pd\n",
        "import numpy as np\n",
        "import matplotlib.pyplot as plt\n",
        "from wordcloud import WordCloud, STOPWORDS, ImageColorGenerator\n",
        "import seaborn as sns\n",
        "from sklearn.model_selection import train_test_split\n",
        "import sys\n",
        "import os\n",
        "import re\n",
        "from nltk.corpus import stopwords\n",
        "import nltk\n",
        "nltk.download('stopwords')\n",
        "\n",
        "tweet_path = \"/content/gdrive/My Drive/SentimentTweets.csv\"\n",
        "\n",
        "#Creating the dataframe and converting every uppercase character to lowercase using the str.lower() function.\n",
        "tweet_df = pd.read_csv(tweet_path).apply(lambda x: x.astype(str).str.lower())\n",
        "\n",
        "#We will substitute every unwanted character with ' '. Here we remove the URLs.\n",
        "tweet_df['text'] = tweet_df['text'].apply(lambda y: re.sub(r'(https|http)?:\\/\\/(\\w|\\.|\\/|\\?|\\=|\\&|\\%)*\\b', \" \", y , flags=re.MULTILINE) )\n",
        "\n",
        "#Here we remove escape characters such as \\n, \\x and \\u.\n",
        "tweet_df['text'] = tweet_df['text'].apply(lambda z: re.sub(r'\\\\n', \" \", z , flags=re.MULTILINE) )\n",
        "tweet_df['text'] = tweet_df['text'].apply(lambda z: re.sub(r'\\\\x..', \" \", z , flags=re.MULTILINE) )\n",
        "tweet_df['text'] = tweet_df['text'].apply(lambda z: re.sub(r'\\\\u....', \" \", z , flags=re.MULTILINE) )\n",
        "\n",
        "#And finally we remove any other remaining symbols by removing every non-alphabetic character.\n",
        "tweet_df['text'] = tweet_df['text'].apply(lambda k: re.sub(\"[^a-z]+\", \" \", k, flags=re.MULTILINE) )\n",
        "\n",
        "#Now we remove the stopwords.\n",
        "stop = stopwords.words('english')\n",
        "tweet_df['text'] = tweet_df['text'].apply(lambda s: ' '.join([item for item in s.split() if item not in stop]))\n",
        "\n",
        "#Converting the labels from 0-4 to Y-N.\n",
        "tweet_df['target'] = tweet_df['target'].apply(lambda k: re.sub(\"4\", \"y\", k, flags=re.MULTILINE) )\n",
        "tweet_df['target'] = tweet_df['target'].apply(lambda k: re.sub(\"0\", \"n\", k, flags=re.MULTILINE) )\n",
        "\n",
        "#Converting the labels to numeric format.\n",
        "ltoi = {l: i for i, l in enumerate(tweet_df['target'].unique())}\n",
        "tweet_df['target'] = tweet_df['target'].apply(lambda y: ltoi[y])"
      ],
      "execution_count": null,
      "outputs": [
        {
          "output_type": "stream",
          "text": [
            "[nltk_data] Downloading package stopwords to /root/nltk_data...\n",
            "[nltk_data]   Package stopwords is already up-to-date!\n"
          ],
          "name": "stdout"
        }
      ]
    },
    {
      "cell_type": "markdown",
      "metadata": {
        "id": "FqmEOMGxmP_C"
      },
      "source": [
        "# Part 2: Stemming and lemmatization "
      ]
    },
    {
      "cell_type": "code",
      "metadata": {
        "colab": {
          "base_uri": "https://localhost:8080/"
        },
        "id": "Pr3T78Jm59Mj",
        "outputId": "ff990ff7-60df-47b0-e2d6-40c912239e0f"
      },
      "source": [
        "#Showing the 'text' column after the preprocessing.\n",
        "tweet_df['text']"
      ],
      "execution_count": null,
      "outputs": [
        {
          "output_type": "execute_result",
          "data": {
            "text/plain": [
              "0                                             brokenpromises\n",
              "1          david carradine sad thai law sure fowl play ma...\n",
              "2                                    b tell bro say congrats\n",
              "3                                     littlefluffycat indeed\n",
              "4          completed race life mins girlies work fun bloo...\n",
              "                                 ...                        \n",
              "1279995    zawhtutwin watching cartoon cry oh time gets e...\n",
              "1279996                                     eating mcdonalds\n",
              "1279997      bestsoylatte sorry hear car definition bad news\n",
              "1279998    leesherry done could forgiveness process reali...\n",
              "1279999                                       b sleepin hate\n",
              "Name: text, Length: 1280000, dtype: object"
            ]
          },
          "metadata": {
            "tags": []
          },
          "execution_count": 6
        }
      ]
    },
    {
      "cell_type": "markdown",
      "metadata": {
        "id": "OWHDkBifmT__"
      },
      "source": [
        "# Stemming"
      ]
    },
    {
      "cell_type": "code",
      "metadata": {
        "colab": {
          "base_uri": "https://localhost:8080/"
        },
        "id": "ygYVzyWu6O_0",
        "outputId": "c61e9065-3ce6-4e11-c450-aeaa777ae6b1"
      },
      "source": [
        "from sklearn.feature_extraction.text import TfidfVectorizer, CountVectorizer\n",
        "\n",
        "import warnings\n",
        "warnings.filterwarnings('ignore') \n",
        "\n",
        "import nltk\n",
        "\n",
        "#Objects needed for the stemming.\n",
        "from nltk.stem import PorterStemmer, WordNetLemmatizer\n",
        "porter_stemmer = PorterStemmer()\n",
        "\n",
        "#Defining a stem_sentences function that will stem our text and return it in string format.\n",
        "def stem_sentences(sentence):\n",
        "    tokens = sentence.split()\n",
        "    stemmed_tokens = [porter_stemmer.stem(token) for token in tokens]\n",
        "    return ' '.join(stemmed_tokens)\n",
        "\n",
        "#Stemming the text.\n",
        "tweet_df['stemmed_text'] = tweet_df['text'].apply(stem_sentences)\n",
        "\n",
        "#Showing the 'text' column after stemming.\n",
        "tweet_df['stemmed_text']"
      ],
      "execution_count": null,
      "outputs": [
        {
          "output_type": "execute_result",
          "data": {
            "text/plain": [
              "0                                               brokenpromis\n",
              "1          david carradin sad thai law sure fowl play man...\n",
              "2                                     b tell bro say congrat\n",
              "3                                       littlefluffycat inde\n",
              "4          complet race life min girli work fun bloodi ho...\n",
              "                                 ...                        \n",
              "1279995    zawhtutwin watch cartoon cri oh time get easie...\n",
              "1279996                                         eat mcdonald\n",
              "1279997          bestsoylatt sorri hear car definit bad news\n",
              "1279998    leesherri done could forgiv process realiz bro...\n",
              "1279999                                       b sleepin hate\n",
              "Name: stemmed_text, Length: 1280000, dtype: object"
            ]
          },
          "metadata": {
            "tags": []
          },
          "execution_count": 7
        }
      ]
    },
    {
      "cell_type": "markdown",
      "metadata": {
        "id": "2guW8hlfmXxt"
      },
      "source": [
        "# Lemmatization"
      ]
    },
    {
      "cell_type": "code",
      "metadata": {
        "colab": {
          "base_uri": "https://localhost:8080/"
        },
        "id": "D5qKVq8s6lzz",
        "outputId": "fb1afc20-209d-4b8d-c024-b2604deb615d"
      },
      "source": [
        "nltk.download('wordnet')\n",
        "\n",
        "#Objects needed for the lemmatization.\n",
        "tokenizer = nltk.tokenize.WhitespaceTokenizer()\n",
        "lemmatizer = nltk.stem.WordNetLemmatizer()\n",
        "\n",
        "#Defining a lemmatize function that will lemmatize our text and return it in string format.\n",
        "def lemmatize(text):\n",
        "    string_list = [lemmatizer.lemmatize(word) for word in tokenizer.tokenize(text)]\n",
        "    list_to_str = ' '.join([str(element) for element in string_list])\n",
        "    return list_to_str\n",
        "\n",
        "#Performing lemmatization on the stemmed text.\n",
        "tweet_df['lemmatized_text'] = tweet_df['stemmed_text'].apply(lemmatize)\n",
        "\n",
        "#Showing the lemmatized text.\n",
        "tweet_df['lemmatized_text']"
      ],
      "execution_count": null,
      "outputs": [
        {
          "output_type": "stream",
          "text": [
            "[nltk_data] Downloading package wordnet to /root/nltk_data...\n",
            "[nltk_data]   Unzipping corpora/wordnet.zip.\n"
          ],
          "name": "stdout"
        },
        {
          "output_type": "execute_result",
          "data": {
            "text/plain": [
              "0                                               brokenpromis\n",
              "1          david carradin sad thai law sure fowl play man...\n",
              "2                                     b tell bro say congrat\n",
              "3                                       littlefluffycat inde\n",
              "4          complet race life min girli work fun bloodi ho...\n",
              "                                 ...                        \n",
              "1279995    zawhtutwin watch cartoon cri oh time get easie...\n",
              "1279996                                         eat mcdonald\n",
              "1279997          bestsoylatt sorri hear car definit bad news\n",
              "1279998    leesherri done could forgiv process realiz bro...\n",
              "1279999                                       b sleepin hate\n",
              "Name: lemmatized_text, Length: 1280000, dtype: object"
            ]
          },
          "metadata": {
            "tags": []
          },
          "execution_count": 8
        }
      ]
    },
    {
      "cell_type": "markdown",
      "metadata": {
        "id": "5SeTeFTVmkEE"
      },
      "source": [
        "# Part 3: Preparing the data using TorchText"
      ]
    },
    {
      "cell_type": "markdown",
      "metadata": {
        "id": "NweKPKramne5"
      },
      "source": [
        "# Initializing the data Fields"
      ]
    },
    {
      "cell_type": "code",
      "metadata": {
        "id": "l_1CVUl-62Xe"
      },
      "source": [
        "import torch\n",
        "from torchtext import data\n",
        "\n",
        "#We initialize two fields. One for the text (our features) and one for the labels.\n",
        "text_field = data.Field(tokenize='spacy', lower=True) \n",
        "label_field = data.Field(sequential=False, use_vocab=False)"
      ],
      "execution_count": null,
      "outputs": []
    },
    {
      "cell_type": "markdown",
      "metadata": {
        "id": "dcEJ0gnFmx_n"
      },
      "source": [
        "# Splitting the dataframe and getting csv format"
      ]
    },
    {
      "cell_type": "code",
      "metadata": {
        "id": "KRfRCUoz7Aek"
      },
      "source": [
        "#Splitting the dataframe to train and test sets.\n",
        "train_set, test_set = train_test_split(tweet_df, test_size=0.2, random_state=42)\n",
        "\n",
        "#Keeping the columns we need.\n",
        "train_set = train_set[['lemmatized_text','target']]\n",
        "test_set = test_set[['lemmatized_text','target']]\n",
        "\n",
        "#Creating two new csv files (needed for the following function).\n",
        "train_set.to_csv('/content/gdrive/My Drive/train_file.csv')\n",
        "test_set.to_csv('/content/gdrive/My Drive/test_file.csv')"
      ],
      "execution_count": null,
      "outputs": []
    },
    {
      "cell_type": "markdown",
      "metadata": {
        "id": "7xFQ1ii7mzPj"
      },
      "source": [
        "# Splitting again with TorchText"
      ]
    },
    {
      "cell_type": "code",
      "metadata": {
        "colab": {
          "base_uri": "https://localhost:8080/"
        },
        "id": "cf0INphC7J0C",
        "outputId": "27c0b39f-6dbc-476e-cde1-9014a2aa2d6c"
      },
      "source": [
        "#Splitting again with the TabularDataset module. This will allow us to also tokenize the text.\n",
        "train_data, test_data = data.TabularDataset.splits(\n",
        "                                        path='/content/gdrive/My Drive/',\n",
        "                                        train = 'train_file.csv',\n",
        "                                        test = 'train_file.csv',\n",
        "                                        format = 'csv',\n",
        "                                        skip_header = True,\n",
        "                                        fields=[(None, None), ('lemmatized_text', text_field), ('target', label_field)])\n",
        "\n",
        "#Printing the first entry to make sure the tokenization was succesful.\n",
        "print(vars(train_data.examples[0]))"
      ],
      "execution_count": null,
      "outputs": [
        {
          "output_type": "stream",
          "text": [
            "{'lemmatized_text': ['lalavazquez', 'happi', 'mother', 'day', 'wonder', 'bless', 'day', 'today', 'u', 'ur', 'mom'], 'target': '1'}\n"
          ],
          "name": "stdout"
        }
      ]
    },
    {
      "cell_type": "markdown",
      "metadata": {
        "id": "_nC4FXxcm5Qf"
      },
      "source": [
        "# Building the GloVe vocabulary"
      ]
    },
    {
      "cell_type": "code",
      "metadata": {
        "id": "avucGl4G7ME2",
        "colab": {
          "base_uri": "https://localhost:8080/"
        },
        "outputId": "0eaa718f-647b-44b5-b555-ff5a30f1f285"
      },
      "source": [
        "import torch\n",
        "\n",
        "#Setting a fixed size for the the vocabulary, in case we don't want to use all the tokens.\n",
        "#MAX_VOCAB_SIZE = 269000\n",
        "\n",
        "#Building the GloVe vocabulary (using a Twitter embedding for obvious reasons...)\n",
        "text_field.build_vocab(\n",
        "    train_data,\n",
        "    #max_size = MAX_VOCAB_SIZE,\n",
        "    vectors='glove.twitter.27B.25d',\n",
        "    unk_init = torch.Tensor.normal_\n",
        ")\n",
        "\n",
        "#Getting the vocab instance.\n",
        "vocab = text_field.vocab"
      ],
      "execution_count": null,
      "outputs": [
        {
          "output_type": "stream",
          "text": [
            ".vector_cache/glove.twitter.27B.zip: 1.52GB [11:41, 2.17MB/s]                            \n",
            "100%|█████████▉| 1193306/1193514 [00:37<00:00, 32906.61it/s]"
          ],
          "name": "stderr"
        }
      ]
    },
    {
      "cell_type": "markdown",
      "metadata": {
        "id": "iY_Ju5gXm7dw"
      },
      "source": [
        "# Creating batches"
      ]
    },
    {
      "cell_type": "code",
      "metadata": {
        "colab": {
          "base_uri": "https://localhost:8080/"
        },
        "id": "5E8S_XgR_fBS",
        "outputId": "290a3003-c22b-4fd4-9c05-1cc413a6d333"
      },
      "source": [
        "#Since the dataset is rather large we'll have to use an equally large size for the batches.\n",
        "BATCH_SIZE = 2500\n",
        "\n",
        "#The use of GPU is necessary for this model.\n",
        "device = torch.device(\"cuda\" if torch.cuda.is_available() else \"cpu\")\n",
        "\n",
        "#Splitting with BucketIterator (which will also give us the iterator in tensor format).\n",
        "train_iterator, test_iterator = data.BucketIterator.splits(\n",
        "    (train_data, test_data), \n",
        "    batch_size = BATCH_SIZE,\n",
        "    sort = False,\n",
        "    device=device\n",
        "    )\n",
        "\n",
        "#Checking how many batches we have.\n",
        "len(test_iterator)"
      ],
      "execution_count": null,
      "outputs": [
        {
          "output_type": "execute_result",
          "data": {
            "text/plain": [
              "410"
            ]
          },
          "metadata": {
            "tags": []
          },
          "execution_count": 13
        }
      ]
    },
    {
      "cell_type": "markdown",
      "metadata": {
        "id": "h944DROHnFxN"
      },
      "source": [
        "# Part 4: Creating the Model"
      ]
    },
    {
      "cell_type": "code",
      "metadata": {
        "id": "13eD0C79PvOc"
      },
      "source": [
        "import torch.nn as nn\n",
        "import torchvision.transforms as transforms\n",
        "import torchvision.datasets as dsets\n",
        "import torch.nn.functional as F\n",
        "import torch.autograd as autograd\n",
        "\n",
        "#Defining the RNN Model. Commentary about the choices of the dimensions, hidden layers etc can be seen in the ReadMe file.\n",
        "class RNN_Model(nn.Module):\n",
        "    def __init__(self, cell_type, vocab_size, output_size, embedding_dim, hidden_dim, n_layers):\n",
        "        super(RNN_Model, self).__init__()\n",
        "\n",
        "        self.cell_type = cell_type\n",
        "        self.output_size = output_size\n",
        "        self.n_layers = n_layers\n",
        "        self.hidden_dim = hidden_dim\n",
        "        \n",
        "        #Embedding layer\n",
        "        self.embedding = nn.Embedding(vocab_size, embedding_dim)\n",
        "        \n",
        "        #Initializing the RNN model depending on the cell type (either GRU or LSTM).\n",
        "        if cell_type == 'GRU':\n",
        "          self.rnn = nn.GRU(embedding_dim, hidden_dim, n_layers, \n",
        "                              bidirectional=True, batch_first=True)\n",
        "        else:\n",
        "          self.rnn = nn.LSTM(embedding_dim, hidden_dim, n_layers,\n",
        "                             bidirectional=True, batch_first=True)\n",
        "\n",
        "        \n",
        "        #Dropout layer\n",
        "        self.dropout = nn.Dropout(0.9)\n",
        "        \n",
        "        #Linear and Sigmoid layers (Hidden dimension is multiplied by 2 due to the bidirectionality).\n",
        "        self.fc = nn.Linear(2*hidden_dim, output_size)\n",
        "        self.sig = nn.Sigmoid()\n",
        "    \n",
        "    def forward(self, x, hidden):\n",
        "        \n",
        "        #Getting the batch size which is needed later on.\n",
        "        batch_size = x.size(0)\n",
        "        \n",
        "        #Embedding output \n",
        "        x = x.long()\n",
        "        embeds = self.embedding(x)\n",
        "\n",
        "        #Output of the rnn model along with the hidden state.\n",
        "        rnn, hidden = self.rnn(embeds, hidden)\n",
        "        \n",
        "        #Dropout layer\n",
        "        out = self.dropout(rnn)\n",
        "\n",
        "        #Fully-connected Linear layer (the '+ embeds' comment in case someone wants to activate the skip connections functionality).\n",
        "        out = self.fc(out) #+ embeds\n",
        "\n",
        "        #Sigmoid function\n",
        "        sig_out = self.sig(out)\n",
        "\n",
        "        #Reshaping to be batch_size first\n",
        "        sig_out = sig_out.view(batch_size, -1)\n",
        "\n",
        "        #Getting the last batch of labels\n",
        "        sig_out = sig_out[:, -1] \n",
        "        \n",
        "        #Return last sigmoid output and hidden state\n",
        "        return sig_out, hidden\n",
        "    \n",
        "    def init_hidden(self, batch_size):\n",
        "    \n",
        "        #Create new tensors with sizes n_layers x batch_size x hidden_dim for the hidden states.\n",
        "        #Initialized to zero, for hidden state (and cell state of LSTM).\n",
        "       \n",
        "        #(N_layers is multiplied by 2 due to the bidirectionality)\n",
        "        if self.cell_type == 'GRU':\n",
        "          hidden = autograd.Variable(torch.zeros(2*self.n_layers, batch_size, self.hidden_dim)).cuda()  \n",
        "        else:\n",
        "          hidden = (autograd.Variable(torch.zeros(2*self.n_layers, batch_size, self.hidden_dim)).cuda(),\n",
        "                      autograd.Variable(torch.zeros(2*self.n_layers, batch_size, self.hidden_dim)).cuda())\n",
        "\n",
        "        return hidden       \n",
        "\n",
        "\n",
        "\n",
        "CELL_TYPE = 'GRU' #Defining the cell type (either GRU or LSTM).\n",
        "INPUT_DIM = len(text_field.vocab) #Input size is the length of the GloVe vocab.\n",
        "EMBEDDING_DIM = 300 #'Random' number for the embedding dimensions.\n",
        "HIDDEN_DIM = 128 \n",
        "OUTPUT_DIM = 1\n",
        "N_LAYERS = 4\n",
        "\n",
        "#Initializing the model.\n",
        "model = RNN_Model(CELL_TYPE, INPUT_DIM, OUTPUT_DIM, EMBEDDING_DIM, HIDDEN_DIM, N_LAYERS).to(device)"
      ],
      "execution_count": null,
      "outputs": []
    },
    {
      "cell_type": "markdown",
      "metadata": {
        "id": "9dn_GOjmnJwi"
      },
      "source": [
        "# Part 5: Training the Model and getting scores"
      ]
    },
    {
      "cell_type": "code",
      "metadata": {
        "colab": {
          "base_uri": "https://localhost:8080/"
        },
        "id": "FaTEQ11FP19v",
        "outputId": "d1f1831a-9122-481f-9b0a-9ac3fd241436"
      },
      "source": [
        "import torch\n",
        "from torchtext import data\n",
        "from sklearn.metrics import accuracy_score, f1_score, precision_score, recall_score, roc_auc_score\n",
        "train_losses = []\n",
        "test_losses = []\n",
        "train_losses_mean = []\n",
        "test_losses_mean = []\n",
        "test_accuracies = []\n",
        "prec_scores = []\n",
        "rec_scores = []\n",
        "f1_scores = []\n",
        "predictions = []\n",
        "targets = []\n",
        "\n",
        "#Initializing the Loss Function and the Optimizer.\n",
        "lr=0.002\n",
        "criterion = nn.BCELoss()\n",
        "optimizer = torch.optim.Adam(model.parameters(), lr=lr)\n",
        "\n",
        "\n",
        "epochs = 5\n",
        "for epoch in range(epochs): #Training the model for 5 epochs. \n",
        "    \n",
        "    #Initializing the hidden state.\n",
        "    h = model.init_hidden(BATCH_SIZE)\n",
        "\n",
        "    for batch in train_iterator: \n",
        "        \n",
        "        model.train()\n",
        "        \n",
        "        #Creating new variables for the hidden state, otherwise we'd backprop through the entire training history\n",
        "        if model.cell_type == 'GRU':\n",
        "          h.detach_()\n",
        "        else:\n",
        "          h = tuple([each.data for each in h])\n",
        "        \n",
        "        #The batch size of the very last batch is not the same with the other ones, so we'll have to skip it :/\n",
        "        if batch.lemmatized_text.size(1) != BATCH_SIZE:\n",
        "          continue\n",
        "\n",
        "\n",
        "        optimizer.zero_grad()\n",
        "\n",
        "        #Getting predictions and the loss.\n",
        "        prediction, h = model(batch.lemmatized_text.T.cuda(),h)\n",
        "        loss = criterion(prediction.cuda().squeeze(), batch.target.float())\n",
        "        \n",
        "        loss.backward()\n",
        "\n",
        "        #Gradient clipping in case we need it.\n",
        "        for param in model.parameters():\n",
        "          if param.grad is None:\n",
        "            continue\n",
        "          grad_val = torch.clamp(param.grad, -5, 5)\n",
        "\n",
        "        optimizer.step()\n",
        "        \n",
        "        train_losses.append(loss.item())\n",
        "    \n",
        "    for batch in test_iterator:\n",
        "        \n",
        "        with torch.no_grad(): #Turn off gradients for test validation, saves memory and computations.\n",
        "            \n",
        "            model.eval()\n",
        "\n",
        "            if model.cell_type == 'GRU':\n",
        "              h.detach_()\n",
        "            else:\n",
        "              h = tuple([each.data for each in h])\n",
        "\n",
        "            if batch.lemmatized_text.size(1) != BATCH_SIZE:\n",
        "              continue\n",
        "\n",
        "            prediction, h = model(batch.lemmatized_text.T.cuda(),h)\n",
        "            loss = criterion(prediction.cuda().squeeze(), batch.target.float())\n",
        "            \n",
        "            test_losses.append(loss.item())\n",
        "        \n",
        "            #Getting numpy version of the predictions and rounding them for scores.\n",
        "            pred = prediction.cpu().detach().numpy()\n",
        "            pred = pred.round()\n",
        "\n",
        "            #Accuracy score which will be printed in every epoch.\n",
        "            acc_score_test = accuracy_score(pred, batch.target.cpu())\n",
        "            \n",
        "            #Getting the last predictions in order to test their accuracy in the classification report and ROC curve.\n",
        "            if epoch == 4 :\n",
        "              predictions.extend(pred)\n",
        "              targets.extend(batch.target.cpu().numpy())\n",
        "            \n",
        "            #Getting precision, recall and f1 scores.\n",
        "            prec_score_test = precision_score(pred, batch.target.cpu(), average = 'weighted')\n",
        "            prec_scores.append(prec_score_test)\n",
        "            \n",
        "            rec_score_test = recall_score(pred, batch.target.cpu(), average = 'weighted')\n",
        "            rec_scores.append(rec_score_test)\n",
        "            \n",
        "            f1_score_test = f1_score(pred, batch.target.cpu(), average = 'weighted')\n",
        "            f1_scores.append(f1_score_test)\n",
        "\n",
        "            test_accuracy = acc_score_test\n",
        "            test_accuracies.append(test_accuracy)\n",
        "    \n",
        "    print(f\"Epoch: {epoch+1}/{epochs}.. \",\n",
        "          f\"Training Loss: {np.mean(train_losses):.3f}.. \",\n",
        "          f\"Test Loss: {np.mean(test_losses):.3f}.. \",\n",
        "          f\"Test Accuracy: {np.mean(test_accuracies):.3f}\")\n",
        "    train_losses_mean.append(np.mean(train_losses))\n",
        "    test_losses_mean.append(np.mean(test_losses))\n",
        "\n",
        "prec_score_test = np.mean(prec_scores)\n",
        "rec_score_test = np.mean(rec_scores)\n",
        "f1_score_test = np.mean(f1_scores)\n",
        "\n",
        "#More discussion about the scores and comparisons with the other models can be seen in the ReadMe file.\n",
        "print()\n",
        "print(\"Printing scores for Precision, Recall and F1-Measure\")\n",
        "print(\"Average accuracy using Precision : {}%\".format(round(prec_score_test*100,2)))\n",
        "print(\"Average accuracy using Recall : {}%\".format(round(rec_score_test*100,2)))\n",
        "print(\"Average accuracy using F1-Measure: {}%\".format(round(f1_score_test*100,2)))"
      ],
      "execution_count": null,
      "outputs": [
        {
          "output_type": "stream",
          "text": [
            "Epoch: 1/5..  Training Loss: 0.530..  Test Loss: 0.438..  Test Accuracy: 0.799\n",
            "Epoch: 2/5..  Training Loss: 0.485..  Test Loss: 0.406..  Test Accuracy: 0.817\n",
            "Epoch: 3/5..  Training Loss: 0.451..  Test Loss: 0.374..  Test Accuracy: 0.836\n",
            "Epoch: 4/5..  Training Loss: 0.418..  Test Loss: 0.342..  Test Accuracy: 0.853\n",
            "Epoch: 5/5..  Training Loss: 0.387..  Test Loss: 0.312..  Test Accuracy: 0.868\n",
            "\n",
            "Printing scores for Precision, Recall and F1-Measure\n",
            "Average accuracy using Precision : 86.86%\n",
            "Average accuracy using Recall : 86.84%\n",
            "Average accuracy using F1-Measure: 86.84%\n"
          ],
          "name": "stdout"
        }
      ]
    },
    {
      "cell_type": "markdown",
      "metadata": {
        "id": "z6RTA1lnnc4O"
      },
      "source": [
        "# Part 6: Evaluating the Final Model"
      ]
    },
    {
      "cell_type": "markdown",
      "metadata": {
        "id": "2lwK3iJGYuFP"
      },
      "source": [
        "The final model for this assignment was the one executed on the above cell with the given parameters. A discussion about the chosen dimensions, layers can be seen at the ReadMe file. The following cells show the classification report of the model as well as the plots of the Loss vs Epochs and the ROC curve."
      ]
    },
    {
      "cell_type": "markdown",
      "metadata": {
        "id": "GpCMrM1Cnjya"
      },
      "source": [
        "# Classification Report"
      ]
    },
    {
      "cell_type": "code",
      "metadata": {
        "colab": {
          "base_uri": "https://localhost:8080/"
        },
        "id": "xlyfx_juJ0qc",
        "outputId": "23725d38-26e3-41f3-80b1-57a95774d0d9"
      },
      "source": [
        "from sklearn.metrics import classification_report\n",
        "\n",
        "#Getting the classification report to check the Precision, Recall and F1 scores of both classes.\n",
        "#Based on the predictions of the last epoch.\n",
        "print(classification_report(targets, predictions))"
      ],
      "execution_count": null,
      "outputs": [
        {
          "output_type": "stream",
          "text": [
            "              precision    recall  f1-score   support\n",
            "\n",
            "           0       0.92      0.94      0.93    510551\n",
            "           1       0.94      0.92      0.93    511949\n",
            "\n",
            "    accuracy                           0.93   1022500\n",
            "   macro avg       0.93      0.93      0.93   1022500\n",
            "weighted avg       0.93      0.93      0.93   1022500\n",
            "\n"
          ],
          "name": "stdout"
        }
      ]
    },
    {
      "cell_type": "markdown",
      "metadata": {
        "id": "7YSbKiqJnqOe"
      },
      "source": [
        "# Plotting Loss vs Epochs"
      ]
    },
    {
      "cell_type": "code",
      "metadata": {
        "colab": {
          "base_uri": "https://localhost:8080/",
          "height": 350
        },
        "id": "1Sfvda5yAo5g",
        "outputId": "6d0db6a2-76c8-40d5-e5e4-d27464b010d2"
      },
      "source": [
        "#Plotting loss vs epochs.\n",
        "plt.figure(figsize=(12, 5))\n",
        "ax = plt.subplot(1,2,1)\n",
        "\n",
        "#First plotting the losses on average of every epoch.\n",
        "plt.title('Average losses')\n",
        "plt.xlabel('Epochs')\n",
        "plt.ylabel('BCE Loss')\n",
        "\n",
        "plt.plot(train_losses_mean, label='Training Loss')\n",
        "plt.plot(test_losses_mean, label='Test Loss')\n",
        "plt.legend(frameon=False);\n",
        "\n",
        "\n",
        "ax = plt.subplot(1,2,2)\n",
        "\n",
        "#Also, we'll plot the losses of every iteration of all the epochs.\n",
        "plt.title('Batch-Level losses')\n",
        "plt.xlabel('Total Iterations')\n",
        "plt.ylabel('BCE Loss')\n",
        "\n",
        "plt.plot(train_losses, label='Training Loss')\n",
        "plt.plot(test_losses, label='Test Loss')\n",
        "plt.legend(frameon=False);"
      ],
      "execution_count": null,
      "outputs": [
        {
          "output_type": "display_data",
          "data": {
            "image/png": "[encoded data removed]",
            "text/plain": [
              "<Figure size 864x360 with 2 Axes>"
            ]
          },
          "metadata": {
            "tags": [],
            "needs_background": "light"
          }
        }
      ]
    },
    {
      "cell_type": "markdown",
      "metadata": {
        "id": "J3Jgo1W0nuMd"
      },
      "source": [
        "# Plotting the ROC curve"
      ]
    },
    {
      "cell_type": "code",
      "metadata": {
        "colab": {
          "base_uri": "https://localhost:8080/",
          "height": 282
        },
        "id": "SfeaoBWgAWNl",
        "outputId": "b8694c11-e33b-4ff5-ee69-836e992d2820"
      },
      "source": [
        "from sklearn import metrics\n",
        "\n",
        "#Getting false and true positive rates of the last predictions.\n",
        "fpr, tpr, thresholds = metrics.roc_curve(targets, predictions)\n",
        "\n",
        "#Plot ROC curve\n",
        "plt.plot(fpr,tpr)\n",
        "plt.show() \n",
        "\n",
        "#Print AUC score\n",
        "auc = np.trapz(tpr,fpr)\n",
        "print('AUC: {}%'.format(round(auc*100,2))) "
      ],
      "execution_count": null,
      "outputs": [
        {
          "output_type": "display_data",
          "data": {
            "image/png": "[encoded data removed]",
            "text/plain": [
              "<Figure size 432x288 with 1 Axes>"
            ]
          },
          "metadata": {
            "tags": [],
            "needs_background": "light"
          }
        },
        {
          "output_type": "stream",
          "text": [
            "AUC: 92.89%\n"
          ],
          "name": "stdout"
        }
      ]
    },
    {
      "cell_type": "markdown",
      "metadata": {
        "id": "XPMbMNRMZ7JM"
      },
      "source": [
        "A few comments about the plots:\n",
        "\n",
        "In the ROC curve, we can see the expected curve for an AUC score of ~93%, which was also given from the scores in the classification report.\n",
        "\n",
        "In the Loss vs Epochs, we can see that the loss starts off quite high, but as the epochs progress the loss decreases. Which shows that the model actually improves with each epoch. I chose to plot two variants. The left one shows the curves of the average losses of the train and test sets. Since the curves appeared to be 'too smooth', I decided to plot the losses on each batch of every iteration to show how each epoch affects the datasets.\n"
      ]
    },
    {
      "cell_type": "markdown",
      "metadata": {
        "id": "HyxSpyzSnxBL"
      },
      "source": [
        "# Comparison with the Feed Forward GloVe model from Homework 2"
      ]
    },
    {
      "cell_type": "markdown",
      "metadata": {
        "id": "aKQQpbq1Kxd3"
      },
      "source": [
        "A detailed comparison with the model of HW2 can be seen in the ReadMe file (this Notebook is already long enough :))."
      ]
    }
  ]
}